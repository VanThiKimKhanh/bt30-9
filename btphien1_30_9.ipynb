{
  "nbformat": 4,
  "nbformat_minor": 0,
  "metadata": {
    "colab": {
      "name": "btphien1-30/9.ipynb",
      "provenance": [],
      "authorship_tag": "ABX9TyPNg7p0hNh0Riz/eVeiZnbP",
      "include_colab_link": true
    },
    "kernelspec": {
      "name": "python3",
      "display_name": "Python 3"
    },
    "language_info": {
      "name": "python"
    }
  },
  "cells": [
    {
      "cell_type": "markdown",
      "metadata": {
        "id": "view-in-github",
        "colab_type": "text"
      },
      "source": [
        "<a href=\"https://colab.research.google.com/github/VanThiKimKhanh/bt30-9/blob/main/btphien1_30_9.ipynb\" target=\"_parent\"><img src=\"https://colab.research.google.com/assets/colab-badge.svg\" alt=\"Open In Colab\"/></a>"
      ]
    },
    {
      "cell_type": "code",
      "metadata": {
        "colab": {
          "base_uri": "https://localhost:8080/"
        },
        "id": "gFJT-dMkMcJi",
        "outputId": "72adcc1f-25ae-4c81-9234-c1659d20a846"
      },
      "source": [
        "list = ['physics', 'chemistry', 1997, 2000]\n",
        "print(\"Value available at index 2 : \")\n",
        "print(list[2])"
      ],
      "execution_count": 1,
      "outputs": [
        {
          "output_type": "stream",
          "name": "stdout",
          "text": [
            "Value available at index 2 : \n",
            "1997\n"
          ]
        }
      ]
    },
    {
      "cell_type": "code",
      "metadata": {
        "colab": {
          "base_uri": "https://localhost:8080/"
        },
        "id": "POsbf1MBMi0C",
        "outputId": "3dcbd154-4752-42a6-c251-67e881dd9dc5"
      },
      "source": [
        "list1 = ['physics', 'chemistry', 1997, 2000]\n",
        "print(list1)\n",
        "del list1[2]"
      ],
      "execution_count": 2,
      "outputs": [
        {
          "output_type": "stream",
          "name": "stdout",
          "text": [
            "['physics', 'chemistry', 1997, 2000]\n"
          ]
        }
      ]
    },
    {
      "cell_type": "code",
      "metadata": {
        "colab": {
          "base_uri": "https://localhost:8080/"
        },
        "id": "xN1UWEl5M05T",
        "outputId": "97e34082-49be-445b-85b0-1543a82f949c"
      },
      "source": [
        "tup1 = ('physics', 'chemistry', 1997, 2000)\n",
        "tup2 = (1, 2, 3, 4, 5, 6, 7 )\n",
        "print(\"tup1[0]: \", tup1[0])\n",
        "print(\"tup2[1:5]: \", tup2[1:5])"
      ],
      "execution_count": 3,
      "outputs": [
        {
          "output_type": "stream",
          "name": "stdout",
          "text": [
            "tup1[0]:  physics\n",
            "tup2[1:5]:  (2, 3, 4, 5)\n"
          ]
        }
      ]
    },
    {
      "cell_type": "code",
      "metadata": {
        "colab": {
          "base_uri": "https://localhost:8080/"
        },
        "id": "UZ_ZMCv8NCh0",
        "outputId": "8e64187d-f1ff-4962-c7c3-abafafad5c80"
      },
      "source": [
        "tup1 = ('physics', 'chemistry', 1997, 2000)\n",
        "tup2 = (1, 2, 3, 4, 5, 6, 7 )\n",
        "print(\"tup1[0]: \", tup1[0])\n",
        "print(\"tup2[1:5]: \", tup2[1:5])\n",
        "tup3 = tup1 + tup2\n",
        "print(tup3)"
      ],
      "execution_count": 4,
      "outputs": [
        {
          "output_type": "stream",
          "name": "stdout",
          "text": [
            "tup1[0]:  physics\n",
            "tup2[1:5]:  (2, 3, 4, 5)\n",
            "('physics', 'chemistry', 1997, 2000, 1, 2, 3, 4, 5, 6, 7)\n"
          ]
        }
      ]
    },
    {
      "cell_type": "code",
      "metadata": {
        "colab": {
          "base_uri": "https://localhost:8080/"
        },
        "id": "UKQYLqihNPD2",
        "outputId": "9700509c-adea-4564-e8ee-6f0bccebd71c"
      },
      "source": [
        "tup = ('physics', 'chemistry', 1997, 2000)\n",
        "print(tup)\n",
        "del tup\n"
      ],
      "execution_count": 6,
      "outputs": [
        {
          "output_type": "stream",
          "name": "stdout",
          "text": [
            "('physics', 'chemistry', 1997, 2000)\n"
          ]
        }
      ]
    },
    {
      "cell_type": "code",
      "metadata": {
        "colab": {
          "base_uri": "https://localhost:8080/"
        },
        "id": "Krx6qhn0NaIB",
        "outputId": "dce0c9c6-6e5a-437a-8cd9-f765560d0d55"
      },
      "source": [
        "dict = {'Name': 'Zara', 'Age': 7, 'Class': 'First'}\n",
        "print(\"dict['Name']: \", dict['Name'])\n",
        "print(\"dict['Age']: \", dict['Age'])"
      ],
      "execution_count": 7,
      "outputs": [
        {
          "output_type": "stream",
          "name": "stdout",
          "text": [
            "dict['Name']:  Zara\n",
            "dict['Age']:  7\n"
          ]
        }
      ]
    },
    {
      "cell_type": "code",
      "metadata": {
        "colab": {
          "base_uri": "https://localhost:8080/"
        },
        "id": "r_arL-ZhNiam",
        "outputId": "af290e1f-1578-45b3-b49b-0d0f0c16ff03"
      },
      "source": [
        "dict = {'Name': 'Zara', 'Age': 7, 'Class': 'First'}\n",
        "dict['Age'] = 8; # update existing entry\n",
        "dict['School'] = \"DPS School\"; # Add new entry\n",
        "print(\"dict['Age']: \", dict['Age'])\n",
        "print(\"dict['School']: \", dict['School'])"
      ],
      "execution_count": 8,
      "outputs": [
        {
          "output_type": "stream",
          "name": "stdout",
          "text": [
            "dict['Age']:  8\n",
            "dict['School']:  DPS School\n"
          ]
        }
      ]
    },
    {
      "cell_type": "code",
      "metadata": {
        "colab": {
          "base_uri": "https://localhost:8080/"
        },
        "id": "JlWUoJxmNr8S",
        "outputId": "5effc7c3-18bd-4457-92c2-e842245c74be"
      },
      "source": [
        "Days=set([\"Mon\",\"Tue\",\"Wed\",\"Thu\",\"Fri\",\"Sat\"])\n",
        "Days.discard(\"Sun\")\n",
        "print(Days)"
      ],
      "execution_count": 13,
      "outputs": [
        {
          "output_type": "stream",
          "name": "stdout",
          "text": [
            "{'Tue', 'Thu', 'Wed', 'Mon', 'Sat', 'Fri'}\n"
          ]
        }
      ]
    },
    {
      "cell_type": "code",
      "metadata": {
        "colab": {
          "base_uri": "https://localhost:8080/"
        },
        "id": "kgKkMSKMOPmG",
        "outputId": "5e9d4367-6e1f-4942-be62-8cc52e43ede3"
      },
      "source": [
        "set1 = {1,2,3,4,5,6}\n",
        "print(\"Initial set\")\n",
        "print(set1)"
      ],
      "execution_count": 14,
      "outputs": [
        {
          "output_type": "stream",
          "name": "stdout",
          "text": [
            "Initial set\n",
            "{1, 2, 3, 4, 5, 6}\n"
          ]
        }
      ]
    },
    {
      "cell_type": "code",
      "metadata": {
        "colab": {
          "base_uri": "https://localhost:8080/"
        },
        "id": "p8mtYj3ZOaxh",
        "outputId": "237fd70d-5587-4311-ee19-75ff00baa7a0"
      },
      "source": [
        "DaysA = set([\"Mon\",\"Tue\",\"Wed\"])\n",
        "DaysB = set([\"Mon\",\"Tue\",\"Wed\",\"Thu\",\"Fri\",\"Sat\",\"Sun\"])\n",
        "SubsetRes = DaysA <= DaysB\n",
        "SupersetRes = DaysB >= DaysA\n",
        "print(SubsetRes)\n",
        "print(SupersetRes)"
      ],
      "execution_count": 15,
      "outputs": [
        {
          "output_type": "stream",
          "name": "stdout",
          "text": [
            "True\n",
            "True\n"
          ]
        }
      ]
    },
    {
      "cell_type": "code",
      "metadata": {
        "colab": {
          "base_uri": "https://localhost:8080/"
        },
        "id": "0EiC3BNeOjSh",
        "outputId": "49bc8eef-d832-4d3b-bfe6-9fdc76c7e4d8"
      },
      "source": [
        "import time; # This is required to include time module.\n",
        "ticks = time.time()\n",
        "print(\"Number of ticks since 12:00am, January 1, 1970:\", ticks)"
      ],
      "execution_count": 16,
      "outputs": [
        {
          "output_type": "stream",
          "name": "stdout",
          "text": [
            "Number of ticks since 12:00am, January 1, 1970: 1632963810.252284\n"
          ]
        }
      ]
    },
    {
      "cell_type": "code",
      "metadata": {
        "colab": {
          "base_uri": "https://localhost:8080/"
        },
        "id": "vEEwIGl9OuTx",
        "outputId": "2269a206-2e02-4204-c56d-c9cc7c58f4c0"
      },
      "source": [
        "import calendar\n",
        "cal = calendar.month(2008, 1)\n",
        "print(\"Here is the calendar:\")\n",
        "print(cal)"
      ],
      "execution_count": 17,
      "outputs": [
        {
          "output_type": "stream",
          "name": "stdout",
          "text": [
            "Here is the calendar:\n",
            "    January 2008\n",
            "Mo Tu We Th Fr Sa Su\n",
            "    1  2  3  4  5  6\n",
            " 7  8  9 10 11 12 13\n",
            "14 15 16 17 18 19 20\n",
            "21 22 23 24 25 26 27\n",
            "28 29 30 31\n",
            "\n"
          ]
        }
      ]
    }
  ]
}