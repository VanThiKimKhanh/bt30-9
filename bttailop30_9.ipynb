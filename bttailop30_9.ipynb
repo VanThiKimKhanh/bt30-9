{
  "nbformat": 4,
  "nbformat_minor": 0,
  "metadata": {
    "colab": {
      "name": "bttailop30-9.ipynb",
      "provenance": [],
      "authorship_tag": "ABX9TyMZy7KcF0V0KEGx3PkjEGBq",
      "include_colab_link": true
    },
    "kernelspec": {
      "name": "python3",
      "display_name": "Python 3"
    },
    "language_info": {
      "name": "python"
    }
  },
  "cells": [
    {
      "cell_type": "markdown",
      "metadata": {
        "id": "view-in-github",
        "colab_type": "text"
      },
      "source": [
        "<a href=\"https://colab.research.google.com/github/VanThiKimKhanh/bt30-9/blob/main/bttailop30_9.ipynb\" target=\"_parent\"><img src=\"https://colab.research.google.com/assets/colab-badge.svg\" alt=\"Open In Colab\"/></a>"
      ]
    },
    {
      "cell_type": "code",
      "metadata": {
        "colab": {
          "base_uri": "https://localhost:8080/"
        },
        "id": "gmVyG00FS-Qj",
        "outputId": "8d3d917e-6c5b-42bb-db72-5eba91ea0b93"
      },
      "source": [
        "list1 = [1, 2, 3, 4, 5 ]\n",
        "print(list1)\n",
        "print(sum(list1))\n"
      ],
      "execution_count": 4,
      "outputs": [
        {
          "output_type": "stream",
          "name": "stdout",
          "text": [
            "[1, 2, 3, 4, 5]\n",
            "15\n"
          ]
        }
      ]
    },
    {
      "cell_type": "code",
      "metadata": {
        "colab": {
          "base_uri": "https://localhost:8080/"
        },
        "id": "aCiCKdWOVNHw",
        "outputId": "185cb59c-d936-4e66-ed4a-cf38b9a8b400"
      },
      "source": [
        "list3 = [100,230,550,700]\n",
        "print(max(list3))\n",
        "print(min(list3))"
      ],
      "execution_count": 9,
      "outputs": [
        {
          "output_type": "stream",
          "name": "stdout",
          "text": [
            "700\n",
            "100\n"
          ]
        }
      ]
    },
    {
      "cell_type": "code",
      "metadata": {
        "colab": {
          "base_uri": "https://localhost:8080/"
        },
        "id": "ZcoSJzF2Vxzp",
        "outputId": "627b807f-c119-47ad-c72b-c398d9aed920"
      },
      "source": [
        "numbers = [3,45,2,46,5,25,65,8,57,67]\n",
        "numbers.reverse()\n",
        "print(numbers)"
      ],
      "execution_count": 24,
      "outputs": [
        {
          "output_type": "stream",
          "name": "stdout",
          "text": [
            "[67, 57, 8, 65, 25, 5, 46, 2, 45, 3]\n"
          ]
        }
      ]
    },
    {
      "cell_type": "code",
      "metadata": {
        "colab": {
          "base_uri": "https://localhost:8080/"
        },
        "id": "z7l8WkLuY3az",
        "outputId": "d558938b-9297-4003-b1ca-f3495785613d"
      },
      "source": [
        "numbers = [3,45,2,46,5,25,65,8,57,67]\n",
        "numbers.sort()\n",
        "print(numbers)\n",
        " \n"
      ],
      "execution_count": 23,
      "outputs": [
        {
          "output_type": "stream",
          "name": "stdout",
          "text": [
            "[2, 3, 5, 8, 25, 45, 46, 57, 65, 67]\n"
          ]
        }
      ]
    },
    {
      "cell_type": "code",
      "metadata": {
        "colab": {
          "base_uri": "https://localhost:8080/"
        },
        "id": "wjkfva8Ma62r",
        "outputId": "dc0d376c-6dfc-43e3-9452-2a9fe2453f4a"
      },
      "source": [
        "list = [6, 2, 3, 8, 2]\n",
        "print(list.count(2))"
      ],
      "execution_count": 25,
      "outputs": [
        {
          "output_type": "stream",
          "name": "stdout",
          "text": [
            "2\n"
          ]
        }
      ]
    },
    {
      "cell_type": "code",
      "metadata": {
        "colab": {
          "base_uri": "https://localhost:8080/"
        },
        "id": "DOjJTieUcQYc",
        "outputId": "1ff8ce08-31ea-44e1-c818-4672f47e93a3"
      },
      "source": [
        "lst = [6, 2, 3, 8, 2]\n",
        "print(len(lst))"
      ],
      "execution_count": 26,
      "outputs": [
        {
          "output_type": "stream",
          "name": "stdout",
          "text": [
            "5\n"
          ]
        }
      ]
    },
    {
      "cell_type": "code",
      "metadata": {
        "colab": {
          "base_uri": "https://localhost:8080/"
        },
        "id": "qYozFRQWcd3v",
        "outputId": "fe628c0c-8fbe-4020-dba6-620696d6caa5"
      },
      "source": [
        "list = [1, 2, 3, 4]\n",
        "import random\n",
        "print(random.choice(list))"
      ],
      "execution_count": 41,
      "outputs": [
        {
          "output_type": "stream",
          "name": "stdout",
          "text": [
            "4\n"
          ]
        }
      ]
    },
    {
      "cell_type": "code",
      "metadata": {
        "colab": {
          "base_uri": "https://localhost:8080/"
        },
        "id": "BZWjLdDacqI_",
        "outputId": "666399d8-aba3-432e-838b-cfafaabbd678"
      },
      "source": [
        "lst1 = [1,2,3]\n",
        "lst2 = [4,5,6]\n",
        "print(lst1 + lst2)"
      ],
      "execution_count": 28,
      "outputs": [
        {
          "output_type": "stream",
          "name": "stdout",
          "text": [
            "[1, 2, 3, 4, 5, 6]\n"
          ]
        }
      ]
    }
  ]
}